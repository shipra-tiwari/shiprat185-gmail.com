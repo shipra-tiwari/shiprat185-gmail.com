{
 "cells": [
  {
   "cell_type": "code",
   "execution_count": null,
   "id": "64da4119-148c-4245-92bd-4127e61633c3",
   "metadata": {},
   "outputs": [],
   "source": [
    "\n"
   ]
  },
  {
   "cell_type": "code",
   "execution_count": null,
   "id": "319eba6a-2703-4825-9d6c-89bd5aead940",
   "metadata": {},
   "outputs": [],
   "source": [
    "import pandas as pd\n",
    "from sklearn.model_selection import train_test_split\n",
    "from transformers import AutoTokenizer\n",
    "\n",
    "\n",
    "userA = pd.read_csv(\"/Desktop/Dataset/userA_chats.csv\")\n",
    "userB = pd.read_csv(\"/Desktop/Dataset/userB_chats.csv\")\n",
    "\n",
    "\n",
    "conversation = pd.DataFrame({\n",
    "    'input': userB['message'],    \n",
    "    'target': userA['message']   \n",
    "})\n",
    "\n",
    "\n",
    "train_df, test_df = train_test_split(conversation, test_size=0.1, random_state=42)\n",
    "\n",
    "\n",
    "tokenizer = AutoTokenizer.from_pretrained(\"gpt2\")\n",
    "\n",
    "\n",
    "def tokenize_data(df):\n",
    "    return tokenizer(\n",
    "        df['input'].tolist(), df['target'].tolist(),\n",
    "        padding=True,\n",
    "        truncation=True,\n",
    "        return_tensors=\"pt\"\n",
    "    )\n",
    "\n",
    "train_encodings = tokenize_data(train_df)\n",
    "test_encodings = tokenize_data(test_df)"
   ]
  },
  {
   "cell_type": "code",
   "execution_count": null,
   "id": "ed9bd6fa-ed6a-4998-8008-17da0f81cba7",
   "metadata": {},
   "outputs": [],
   "source": [
    "import torch\n",
    "from transformers import GPT2LMHeadModel\n",
    "\n",
    "\n",
    "model = GPT2LMHeadModel.from_pretrained(\"gpt2\")\n",
    "\n",
    "\n",
    "device = torch.device(\"cuda\" if torch.cuda.is_available() else \"cpu\")\n",
    "model.to(device)"
   ]
  },
  {
   "cell_type": "code",
   "execution_count": null,
   "id": "417f1175-e0ae-44b3-a0f9-ad2382e30a40",
   "metadata": {},
   "outputs": [],
   "source": [
    "from torch.utils.data import Dataset, DataLoader\n",
    "\n",
    "class ChatDataset(Dataset):\n",
    "    def _init_(self, encodings):\n",
    "        self.input_ids = encodings['input_ids']\n",
    "        self.attention_mask = encodings['attention_mask']\n",
    "        self.labels = encodings['input_ids']  # For GPT2 LM\n",
    "\n",
    "    def _len_(self):\n",
    "        return len(self.input_ids)\n",
    "\n",
    "    def _getitem_(self, idx):\n",
    "        return {\n",
    "            'input_ids': self.input_ids[idx],\n",
    "            'attention_mask': self.attention_mask[idx],\n",
    "            'labels': self.labels[idx]\n",
    "        }\n",
    "\n",
    "train_dataset = ChatDataset(train_encodings)\n",
    "train_loader = DataLoader(train_dataset, batch_size=2, shuffle=True)\n",
    "\n",
    "\n",
    "from torch.optim import AdamW\n",
    "optimizer = AdamW(model.parameters(), lr=5e-5)\n",
    "\n",
    "\n",
    "model.train()\n",
    "for epoch in range(2):  # Keep epochs low for demo\n",
    "    for batch in train_loader:\n",
    "        optimizer.zero_grad()\n",
    "        input_ids = batch['input_ids'].to(device)\n",
    "        attention_mask = batch['attention_mask'].to(device)\n",
    "        labels = batch['labels'].to(device)\n",
    "        outputs = model(input_ids, attention_mask=attention_mask, labels=labels)\n",
    "        loss = outputs.loss\n",
    "        loss.backward()\n",
    "        optimizer.step()\n",
    "    print(f\"Epoch {epoch+1} Loss: {loss.item()}\")"
   ]
  },
  {
   "cell_type": "code",
   "execution_count": null,
   "id": "5de92eea-eebf-4ab1-874d-6762ce1da769",
   "metadata": {},
   "outputs": [],
   "source": [
    "def generate_reply(userB_msg, max_length=50):\n",
    "    model.eval()\n",
    "    inputs = tokenizer(userB_msg, return_tensors=\"pt\").to(device)\n",
    "    reply_ids = model.generate(**inputs, max_length=max_length, pad_token_id=tokenizer.eos_token_id)\n",
    "    reply = tokenizer.decode(reply_ids[0], skip_special_tokens=True)\n",
    "    return reply\n",
    "\n",
    "\n",
    "userB_input = \"Hey, are you coming to the party tonight?\"\n",
    "print(\"User A Reply:\", generate_reply(userB_input))"
   ]
  },
  {
   "cell_type": "code",
   "execution_count": null,
   "id": "12eaaa5b-7611-43c0-b190-2170044e5d5e",
   "metadata": {},
   "outputs": [],
   "source": [
    "from nltk.translate.bleu_score import sentence_bleu\n",
    "\n",
    "\n",
    "bleu_scores = []\n",
    "for i in range(len(test_df)):\n",
    "    ref = [test_df.iloc[i]['target'].split()]\n",
    "    pred = generate_reply(test_df.iloc[i]['input']).split()\n",
    "    bleu_scores.append(sentence_bleu(ref, pred))\n",
    "\n",
    "print(\"Average BLEU:\", sum(bleu_scores)/len(bleu_scores))"
   ]
  },
  {
   "cell_type": "code",
   "execution_count": null,
   "id": "e6edcd7d-a34e-4868-a78e-48f801833940",
   "metadata": {},
   "outputs": [],
   "source": [
    "import joblib\n",
    "joblib.dump(model, \"Model.joblib\")"
   ]
  },
  {
   "cell_type": "code",
   "execution_count": null,
   "id": "36ef515b-af6d-46c0-b818-a7d57b76c22f",
   "metadata": {},
   "outputs": [],
   "source": []
  }
 ],
 "metadata": {
  "kernelspec": {
   "display_name": "Python 3 (ipykernel)",
   "language": "python",
   "name": "python3"
  },
  "language_info": {
   "codemirror_mode": {
    "name": "ipython",
    "version": 3
   },
   "file_extension": ".py",
   "mimetype": "text/x-python",
   "name": "python",
   "nbconvert_exporter": "python",
   "pygments_lexer": "ipython3",
   "version": "3.12.7"
  }
 },
 "nbformat": 4,
 "nbformat_minor": 5
}
